{
 "cells": [
  {
   "cell_type": "code",
   "execution_count": null,
   "metadata": {},
   "outputs": [],
   "source": [
    "import csv\n",
    "import getpass\n",
    "import json\n",
    "import os\n",
    "import re\n",
    "\n",
    "import pexpect\n",
    "import requests\n",
    "\n",
    "from types import SimpleNamespace\n",
    "from ipywidgets import IntProgress\n",
    "from IPython.display import display\n",
    "\n",
    "ngw_api_user = 'dummy'\n",
    "ngw_api_pass = getpass.getpass('NGW password: ')\n",
    "\n",
    "ssh_user = 'root'\n",
    "ssh_pass = getpass.getpass('SSH password: ')"
   ]
  },
  {
   "cell_type": "code",
   "execution_count": null,
   "metadata": {},
   "outputs": [],
   "source": [
    "r = requests.get('http://ngwcluster-api.nextgis.com/api/instance/', auth=(ngw_api_user, ngw_api_pass)).json()"
   ]
  },
  {
   "cell_type": "code",
   "execution_count": null,
   "metadata": {},
   "outputs": [],
   "source": [
    "progress = IntProgress(min=0, max=len(r.keys()))"
   ]
  },
  {
   "cell_type": "code",
   "execution_count": null,
   "metadata": {},
   "outputs": [],
   "source": [
    "def get_configs(domains, ssh_host='app-102', ssh_user=ssh_user, ssh_pass=ssh_pass):\n",
    "    prompt = '%s@%s' % (ssh_user, ssh_host)\n",
    "    cmd = 'ssh -A -t %s@95.213.223.210 ssh %s'\n",
    "    child = pexpect.spawn(cmd % (ssh_user, ssh_host),env = {'TERM': 'dumb'})\n",
    "    child.expect('password:')\n",
    "    child.sendline(ssh_pass)\n",
    "    child.expect(prompt)\n",
    "    \n",
    "    for domain in domains:\n",
    "        # extract name of config file\n",
    "        grep_pattern = domain\n",
    "        cmd = 'grep -w %s /ngw/vassal/*'\n",
    "        child.sendline(cmd % (grep_pattern,))\n",
    "        child.expect(prompt)\n",
    "        output = child.before.decode('utf-8')\n",
    "        m = re.search(\"vassal/(.*\\.ini)\", output)\n",
    "        ini = m.group(1)\n",
    "\n",
    "        # extract db credentials\n",
    "        grep_pattern = 'database.user\\|database.name\\|database.password'\n",
    "        cmd = 'grep \\'%s\\' /ngw/config/%s'\n",
    "        child.sendline(cmd % (grep_pattern, ini))\n",
    "        child.expect(prompt)\n",
    "        output = child.before.decode('utf-8')\n",
    "        m = re.search('database.name = (.*)\\r\\ndatabase.user = (.*)\\r\\ndatabase.password = (.*)\\r', output)  \n",
    "        config = SimpleNamespace(domain=domain,\n",
    "                                 db_name=m.group(1),\n",
    "                                 db_user=m.group(2),\n",
    "                                 db_password=m.group(3))\n",
    "        \n",
    "        # extract relation filepath\n",
    "        output = child.before.decode('utf-8')\n",
    "        cmd = 'psql -h pgsql-103 -U %s -d %s -t -c \"select pg_relation_filepath(\\'public.resource\\');\"'\n",
    "        child.sendline(cmd % (config.db_user, config.db_name))\n",
    "        child.expect('Password')\n",
    "        child.sendline(config.db_password)\n",
    "        child.expect(prompt)\n",
    "        output = child.before.decode('utf-8')\n",
    "        m = re.search('\\r\\n (.*)\\r', output)\n",
    "        config.filepath = m.group(1)\n",
    "\n",
    "        # update progressbar\n",
    "        progress.value += 1\n",
    "        \n",
    "        yield config"
   ]
  },
  {
   "cell_type": "code",
   "execution_count": null,
   "metadata": {},
   "outputs": [],
   "source": [
    "def get_mtimes(filepaths, ssh_host='pgsql-103', ssh_user=ssh_user, ssh_pass=ssh_pass):\n",
    "    prompt = '%s@%s' % (ssh_user, ssh_host)\n",
    "    cmd = 'ssh -A -t %s@95.213.223.210 ssh %s'\n",
    "    child = pexpect.spawn(cmd % (ssh_user, ssh_host),env = {'TERM': 'dumb'})\n",
    "    child.expect('password:')\n",
    "    child.sendline(ssh_pass)\n",
    "    child.expect(prompt)\n",
    "    \n",
    "    for path in filepaths:\n",
    "        cmd = 'date -r %s +\"%%d.%%m.%%Y\"'\n",
    "        child.sendline(cmd % (os.path.join('/var/lib/postgresql/9.3/main', path)))\n",
    "        child.expect(prompt)\n",
    "        output = child.before.decode('utf-8')\n",
    "        m = re.search('\\r\\n(.*)\\r', output)\n",
    "        mtime = m.group(1)\n",
    "\n",
    "        yield mtime  "
   ]
  },
  {
   "cell_type": "code",
   "execution_count": null,
   "metadata": {},
   "outputs": [],
   "source": [
    "# this cell can takes up to 2 hrs\n",
    "\n",
    "display(progress)\n",
    "\n",
    "dlist = []\n",
    "ilist = []\n",
    "\n",
    "gmap = {}\n",
    "\n",
    "for guid in r.keys():\n",
    "    domains = r[guid]['options']['domains']\n",
    "    if domains is not None:\n",
    "        domain = domains[0]\n",
    "        gmap[domain] = guid\n",
    "        dlist.append(domain) \n",
    "\n",
    "configs = get_configs(dlist)\n",
    "for config in configs:\n",
    "    ilist.append(dict(guid=gmap[config.domain],\n",
    "                      domain=config.domain,\n",
    "                      db_name=config.db_name,\n",
    "                      db_user=config.db_user,\n",
    "                      db_password=config.db_password,\n",
    "                      filepath=config.filepath))\n",
    "\n",
    "with open('/tmp/ngw_instances.json', 'w') as outfile:\n",
    "    json.dump(ilist, outfile)"
   ]
  },
  {
   "cell_type": "code",
   "execution_count": null,
   "metadata": {},
   "outputs": [],
   "source": [
    "with open('/tmp/ngw_instances.json') as infile:\n",
    "    instances = json.load(infile)\n",
    "\n",
    "fplist = [instance['filepath'] for instance in instances]\n",
    "mtimes = get_mtimes(fplist)\n",
    "\n",
    "with open('/tmp/ngw_mtimes.csv', 'w') as outcsv:\n",
    "    writer = csv.writer(outcsv)\n",
    "    writer.writerow(['guid', 'domain', 'mtime'])\n",
    "    writer.writerows((instance['guid'], instance['domain'], mtime)\n",
    "                     for (instance, mtime) in zip(instances, mtimes))"
   ]
  }
 ],
 "metadata": {
  "kernelspec": {
   "display_name": "Python 3",
   "language": "python",
   "name": "python3"
  },
  "language_info": {
   "codemirror_mode": {
    "name": "ipython",
    "version": 3
   },
   "file_extension": ".py",
   "mimetype": "text/x-python",
   "name": "python",
   "nbconvert_exporter": "python",
   "pygments_lexer": "ipython3",
   "version": "3.5.2"
  }
 },
 "nbformat": 4,
 "nbformat_minor": 2
}
